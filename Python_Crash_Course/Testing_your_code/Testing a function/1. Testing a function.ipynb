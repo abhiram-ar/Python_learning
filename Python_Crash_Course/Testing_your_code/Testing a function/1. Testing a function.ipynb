{
 "cells": [
  {
   "cell_type": "markdown",
   "metadata": {},
   "source": [
    "### Unit tests and test cases\n",
    "The module `unittest` from the Python standard library provides tools for testing your code. \\\n",
    "A unit test verifies that one specific aspect of a function’s behavior is correct. \n",
    "\n",
    "A test case is a collection of unit tests that together prove that a function behaves as it’s supposed to, within the full range of situations you expect it to handle. \n",
    "\n",
    "A good test case considers all the possible \n",
    "kinds of input a function could receive and includes tests to represent each of these situations. A test case with full coverage includes a full range of unit \n",
    "tests covering all the possible ways you can use a function. \n",
    "\n",
    "Achieving full coverage on a large project can be daunting. It’s often good enough to write tests for your code’s critical behaviors and then aim for full coverage only if the project starts to see widespread use."
   ]
  }
 ],
 "metadata": {
  "kernelspec": {
   "display_name": "base",
   "language": "python",
   "name": "python3"
  },
  "language_info": {
   "codemirror_mode": {
    "name": "ipython",
    "version": 3
   },
   "file_extension": ".py",
   "mimetype": "text/x-python",
   "name": "python",
   "nbconvert_exporter": "python",
   "pygments_lexer": "ipython3",
   "version": "3.11.3"
  }
 },
 "nbformat": 4,
 "nbformat_minor": 2
}
