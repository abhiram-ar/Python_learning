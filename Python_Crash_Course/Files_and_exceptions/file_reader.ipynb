{
 "cells": [
  {
   "cell_type": "markdown",
   "metadata": {},
   "source": [
    "##  Reading from a File\n",
    "`open()` function retuns an object representing the file \n",
    "python assigns this object to file_object\n",
    "\n",
    "with keyword make sure that when block finish executing it closes the file object - so we dont want to use explicit `close()`"
   ]
  },
  {
   "cell_type": "code",
   "execution_count": 6,
   "metadata": {},
   "outputs": [
    {
     "name": "stdout",
     "output_type": "stream",
     "text": [
      "3.1415926535 \n",
      "  8979323846 \n",
      "  2643383279\n"
     ]
    }
   ],
   "source": [
    "filepath = \"pi_digits.txt\"\n",
    "\n",
    "with open(filepath) as fileobject:\n",
    "    contents = fileobject.read()\n",
    "print(contents.rstrip()) #rstip to get rid on empty newline"
   ]
  },
  {
   "cell_type": "code",
   "execution_count": 10,
   "metadata": {},
   "outputs": [
    {
     "name": "stdout",
     "output_type": "stream",
     "text": [
      "3.1415926535 \n",
      "\n",
      "  8979323846 \n",
      "\n",
      "  2643383279\n",
      "\n",
      "  \n"
     ]
    }
   ],
   "source": [
    "filepath = \"pi_digits.txt\"\n",
    "\n",
    "with open(filepath) as fileobject:\n",
    "    for line in fileobject:\n",
    "        print(line) \n",
    "        #there is a newline escape sequence at the end of each line so we get a exta newline,\n",
    "        #since print also adds a newline"
   ]
  },
  {
   "cell_type": "code",
   "execution_count": 12,
   "metadata": {},
   "outputs": [
    {
     "name": "stdout",
     "output_type": "stream",
     "text": [
      "3.1415926535\n",
      "  8979323846\n",
      "  2643383279\n",
      "\n"
     ]
    }
   ],
   "source": [
    "filepath = \"pi_digits.txt\"\n",
    "\n",
    "with open(filepath) as fileobject:\n",
    "    for line in fileobject:\n",
    "        print(line.rstrip()) \n",
    "        #using rstrip to eliminarte the extra newline"
   ]
  },
  {
   "cell_type": "markdown",
   "metadata": {},
   "source": [
    "### Making a list of lines form a file\n",
    "object returned by `open()` is only available inside the with block that contains it.\n"
   ]
  },
  {
   "cell_type": "code",
   "execution_count": 14,
   "metadata": {},
   "outputs": [
    {
     "name": "stdout",
     "output_type": "stream",
     "text": [
      "3.1415926535\n",
      "  8979323846\n",
      "  2643383279\n",
      "\n"
     ]
    }
   ],
   "source": [
    "filepath = \"pi_digits.txt\"\n",
    "\n",
    "with open(filepath) as fileobject:\n",
    "    lines = fileobject.readlines() \n",
    "    \n",
    "\n",
    "for line in lines:\n",
    "    print(line.rstrip())"
   ]
  },
  {
   "cell_type": "markdown",
   "metadata": {},
   "source": [
    "### Working with a files's contents\n",
    "After you’ve read a file into memory, you can do whatever you want with that data,"
   ]
  },
  {
   "cell_type": "code",
   "execution_count": 19,
   "metadata": {},
   "outputs": [
    {
     "name": "stdout",
     "output_type": "stream",
     "text": [
      "3.1415926535  8979323846  2643383279\n",
      "36\n"
     ]
    }
   ],
   "source": [
    "pi_string = \"\"\n",
    "for line in lines:\n",
    "    pi_string += line.rstrip() \n",
    "print(pi_string)\n",
    "print(len(pi_string))"
   ]
  },
  {
   "cell_type": "code",
   "execution_count": 20,
   "metadata": {},
   "outputs": [
    {
     "name": "stdout",
     "output_type": "stream",
     "text": [
      "3.141592653589793238462643383279\n",
      "32\n"
     ]
    }
   ],
   "source": [
    "pi_string = \"\"\n",
    "for line in lines:\n",
    "    pi_string += line.strip() #remove all the extra whitespaces from left and right \n",
    "print(pi_string)\n",
    "print(len(pi_string))"
   ]
  },
  {
   "cell_type": "markdown",
   "metadata": {},
   "source": [
    "###  Large Files: One Million \n",
    "Python has no inherent limit to how much data you can work with; you \n",
    "can work with as much data as your system’s memory can handle."
   ]
  },
  {
   "cell_type": "code",
   "execution_count": null,
   "metadata": {
    "notebookRunGroups": {
     "groupValue": "2"
    }
   },
   "outputs": [],
   "source": [
    "#printing the first 50 pi digits\n",
    "filename = 'pi_million_digits.txt'\n",
    "\n",
    "with open(filename) as file_object:\n",
    "    lines = file_object.readlines()\n",
    "\n",
    "pi_string = ''\n",
    "for line in lines:\n",
    "    pi_string += line.strip()\n",
    "print(f\"{pi_string[:52]}...\")\n",
    "print(len(pi_string))"
   ]
  },
  {
   "cell_type": "markdown",
   "metadata": {},
   "source": [
    "## Writing to a file"
   ]
  },
  {
   "cell_type": "markdown",
   "metadata": {},
   "source": [
    "### Writing to a Empty file\n",
    "To write text to a file, you need to call `open()` with a second argument telling \n",
    "Python that you want to write to the file.\n",
    "\n",
    "read mode (`'r'`), write mode (`'w'`), append mode (`'a'`)\\\n",
    "or a mode that allows you to read and write to the file (`'r+'`).\\\n",
    "If you omit the mode argument, Python opens the file in read-only mode by default.\n",
    "\n",
    "\n",
    "`open()` function automatically creates the file if it does not exist.\\\n",
    "if it does exits then python erase the file content before returing the file object.\n",
    "\n",
    "Python can only write strings to a text file. If you want to store numerical data in a \n",
    "text file, you’ll have to convert the data to string format first using the `str()` function.\n"
   ]
  },
  {
   "cell_type": "code",
   "execution_count": 21,
   "metadata": {},
   "outputs": [],
   "source": [
    "filename = 'writetest.txt'\n",
    "\n",
    "with open(filename, \"w\") as fileobject:\n",
    "    fileobject.write(\"hello sugam aano\")\n",
    "    "
   ]
  },
  {
   "cell_type": "markdown",
   "metadata": {},
   "source": [
    "> Python can only write strings to a text file. If you want to store numerical data in a \n",
    "text file, you’ll have to convert the data to string format first using the str() function."
   ]
  },
  {
   "cell_type": "markdown",
   "metadata": {},
   "source": [
    "### Writing multiple files\n",
    "\n",
    "the write function does not add any newlines"
   ]
  },
  {
   "cell_type": "code",
   "execution_count": 26,
   "metadata": {},
   "outputs": [],
   "source": [
    "filename = 'writetest.txt'\n",
    "\n",
    "with open(filename, 'w') as file_object:\n",
    "    file_object.write(\"I love programming.\")\n",
    "    file_object.write(\"I love creating new games.\")\n",
    "\n",
    "    #to include it in a newline use the escape seq\n",
    "    file_object.write(\"\\nthis is now in a new line\")\n"
   ]
  },
  {
   "cell_type": "markdown",
   "metadata": {},
   "source": [
    "### Appending to a File\n",
    "When you open a file in append mode,\n",
    "Python doesn’t erase the contents of the file before returning the file object.\n",
    "\n",
    "Any lines you write to the file will be added at the end of the file. \\\n",
    "If the file doesn’t exist yet, Python will create an empty file for you. "
   ]
  },
  {
   "cell_type": "code",
   "execution_count": 27,
   "metadata": {},
   "outputs": [],
   "source": [
    "filename = 'writetest.txt'\n",
    "\n",
    "with open(filename, 'a') as file_object:\n",
    "    file_object.write(\"\\nAppending without distubing others\")\n"
   ]
  }
 ],
 "metadata": {
  "kernelspec": {
   "display_name": "Python 3",
   "language": "python",
   "name": "python3"
  },
  "language_info": {
   "codemirror_mode": {
    "name": "ipython",
    "version": 3
   },
   "file_extension": ".py",
   "mimetype": "text/x-python",
   "name": "python",
   "nbconvert_exporter": "python",
   "pygments_lexer": "ipython3",
   "version": "3.12.4"
  }
 },
 "nbformat": 4,
 "nbformat_minor": 2
}
