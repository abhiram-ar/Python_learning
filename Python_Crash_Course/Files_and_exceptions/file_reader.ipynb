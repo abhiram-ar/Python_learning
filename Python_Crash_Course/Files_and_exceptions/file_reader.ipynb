{
 "cells": [
  {
   "cell_type": "markdown",
   "metadata": {},
   "source": [
    "open() function retuns an object representing the file \n",
    "python assigns this object to file_object\n",
    "\n",
    "with keyword make sure that when block finish executing it closes the file object - so we dont want to use explicit close()"
   ]
  },
  {
   "cell_type": "code",
   "execution_count": 5,
   "metadata": {},
   "outputs": [
    {
     "name": "stdout",
     "output_type": "stream",
     "text": [
      "3.1415926535 \n",
      "  8979323846 \n",
      "  2643383279\n"
     ]
    }
   ],
   "source": [
    "filepath = \"pi_digits.txt\"\n",
    "\n",
    "with open(filepath) as fileobject:\n",
    "    contents = fileobject.read()\n",
    "print(contents.rstrip())"
   ]
  }
 ],
 "metadata": {
  "kernelspec": {
   "display_name": "Python 3",
   "language": "python",
   "name": "python3"
  },
  "language_info": {
   "codemirror_mode": {
    "name": "ipython",
    "version": 3
   },
   "file_extension": ".py",
   "mimetype": "text/x-python",
   "name": "python",
   "nbconvert_exporter": "python",
   "pygments_lexer": "ipython3",
   "version": "3.12.4"
  }
 },
 "nbformat": 4,
 "nbformat_minor": 2
}
