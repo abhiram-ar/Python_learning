{
 "cells": [
  {
   "cell_type": "markdown",
   "metadata": {},
   "source": [
    "### Files\n",
    "`open()` function retuns an object representing the file \n",
    "python assigns this object to file_object\n",
    "\n",
    "with keyword make sure that when block finish executing it closes the file object - so we dont want to use explicit close()"
   ]
  },
  {
   "cell_type": "code",
   "execution_count": 6,
   "metadata": {},
   "outputs": [
    {
     "name": "stdout",
     "output_type": "stream",
     "text": [
      "3.1415926535 \n",
      "  8979323846 \n",
      "  2643383279\n"
     ]
    }
   ],
   "source": [
    "filepath = \"pi_digits.txt\"\n",
    "\n",
    "with open(filepath) as fileobject:\n",
    "    contents = fileobject.read()\n",
    "print(contents.rstrip()) #rstip to get rid on empty newline"
   ]
  },
  {
   "cell_type": "code",
   "execution_count": 10,
   "metadata": {},
   "outputs": [
    {
     "name": "stdout",
     "output_type": "stream",
     "text": [
      "3.1415926535 \n",
      "\n",
      "  8979323846 \n",
      "\n",
      "  2643383279\n",
      "\n",
      "  \n"
     ]
    }
   ],
   "source": [
    "filepath = \"pi_digits.txt\"\n",
    "\n",
    "with open(filepath) as fileobject:\n",
    "    for line in fileobject:\n",
    "        print(line) \n",
    "        #there is a newline escape sequence at the end of each line so we get a exta newline,\n",
    "        #since print also adds a newline"
   ]
  },
  {
   "cell_type": "code",
   "execution_count": 12,
   "metadata": {},
   "outputs": [
    {
     "name": "stdout",
     "output_type": "stream",
     "text": [
      "3.1415926535\n",
      "  8979323846\n",
      "  2643383279\n",
      "\n"
     ]
    }
   ],
   "source": [
    "filepath = \"pi_digits.txt\"\n",
    "\n",
    "with open(filepath) as fileobject:\n",
    "    for line in fileobject:\n",
    "        print(line.rstrip()) \n",
    "        #using rstrip to eliminarte the extra newline"
   ]
  }
 ],
 "metadata": {
  "kernelspec": {
   "display_name": "Python 3",
   "language": "python",
   "name": "python3"
  },
  "language_info": {
   "codemirror_mode": {
    "name": "ipython",
    "version": 3
   },
   "file_extension": ".py",
   "mimetype": "text/x-python",
   "name": "python",
   "nbconvert_exporter": "python",
   "pygments_lexer": "ipython3",
   "version": "3.12.4"
  }
 },
 "nbformat": 4,
 "nbformat_minor": 2
}
