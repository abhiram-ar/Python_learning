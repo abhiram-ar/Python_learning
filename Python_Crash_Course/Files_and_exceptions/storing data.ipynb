{
 "cells": [
  {
   "cell_type": "markdown",
   "metadata": {},
   "source": [
    "## Storing data\n",
    "some times we need to save the data(configuaration data for a game etc)provided by the user, \\\n",
    "During our program runtime we use list or dicionary \\\n",
    "by the time our program quits we need to save it in a external file\n",
    "\n",
    "A simple way to do this involve using **json module**\\\n",
    "The json module allows you to dump simple Python data structures into a \\\n",
    "file and load the data from that file the next time the program runs.\n"
   ]
  },
  {
   "cell_type": "markdown",
   "metadata": {},
   "source": [
    "### Using json.dump() and json.load()\n",
    "The `json.dump()` function takes two arguments: \n",
    "1. a piece of data to store\n",
    "2. a file object it can use to store the data. "
   ]
  },
  {
   "cell_type": "code",
   "execution_count": 5,
   "metadata": {},
   "outputs": [],
   "source": [
    "import json\n",
    "\n",
    "numbers = [2,3,5,7,11,13]\n",
    "\n",
    "filename = \"numbers.json\"\n",
    "with open(filename, \"w\") as f:\n",
    "    json.dump(numbers, f)\n",
    "\n"
   ]
  },
  {
   "cell_type": "code",
   "execution_count": 6,
   "metadata": {},
   "outputs": [
    {
     "name": "stdout",
     "output_type": "stream",
     "text": [
      "[2, 3, 5, 7, 11, 13]\n"
     ]
    }
   ],
   "source": [
    "import json\n",
    "\n",
    "filename = \"numbers.json\"\n",
    "with open(filename) as f:\n",
    "    numbers_load = json.load(f)\n",
    "\n",
    "print(numbers_load)"
   ]
  },
  {
   "cell_type": "markdown",
   "metadata": {},
   "source": [
    "### Saving and Reading User- Generated data\n"
   ]
  },
  {
   "cell_type": "code",
   "execution_count": 2,
   "metadata": {},
   "outputs": [
    {
     "name": "stdout",
     "output_type": "stream",
     "text": [
      "we will remember you when you comeback, abhiram\\\n"
     ]
    }
   ],
   "source": [
    "#remember_me.py\n",
    "import json\n",
    "\n",
    "username = input(\"what is your name? \")\n",
    "\n",
    "filename = \"username.json\"\n",
    "with open(filename, \"w\") as f:\n",
    "    json.dump(username, f)\n",
    "    print(f\"we will remember you when you comeback, {username}\")\n",
    "\n"
   ]
  },
  {
   "cell_type": "code",
   "execution_count": 3,
   "metadata": {},
   "outputs": [
    {
     "name": "stdout",
     "output_type": "stream",
     "text": [
      "Welcome back, abhiram\\\n"
     ]
    }
   ],
   "source": [
    "#great_me.py\n",
    "import json\n",
    "\n",
    "filename = \"username.json\"\n",
    "with open(filename) as f:\n",
    "    user = json.load(f)\n",
    "    print(f\"Welcome back, {user}\")"
   ]
  }
 ],
 "metadata": {
  "kernelspec": {
   "display_name": "base",
   "language": "python",
   "name": "python3"
  },
  "language_info": {
   "codemirror_mode": {
    "name": "ipython",
    "version": 3
   },
   "file_extension": ".py",
   "mimetype": "text/x-python",
   "name": "python",
   "nbconvert_exporter": "python",
   "pygments_lexer": "ipython3",
   "version": "3.11.3"
  }
 },
 "nbformat": 4,
 "nbformat_minor": 2
}
