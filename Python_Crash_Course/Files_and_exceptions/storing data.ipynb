{
 "cells": [
  {
   "cell_type": "markdown",
   "metadata": {},
   "source": [
    "## Storing data\n",
    "some times we need to save the data(configuaration data for a game etc)provided by the user, \\\n",
    "During our program runtime we use list or dicionary \\\n",
    "by the time our program quits we need to save it in a external file\n",
    "\n",
    "A simple way to do this involve using **json module**\\\n",
    "The json module allows you to dump simple Python data structures into a \\\n",
    "file and load the data from that file the next time the program runs.\n"
   ]
  },
  {
   "cell_type": "markdown",
   "metadata": {},
   "source": [
    "### Using json.dump() and json.load()\n",
    "The `json.dump()` function takes two arguments: \n",
    "1. a piece of data to store\n",
    "2. a file object it can use to store the data. "
   ]
  },
  {
   "cell_type": "code",
   "execution_count": 5,
   "metadata": {},
   "outputs": [],
   "source": [
    "import json\n",
    "\n",
    "numbers = [2,3,5,7,11,13]\n",
    "\n",
    "filename = \"numbers.json\"\n",
    "with open(filename, \"w\") as f:\n",
    "    json.dump(numbers, f)\n",
    "\n"
   ]
  },
  {
   "cell_type": "code",
   "execution_count": 6,
   "metadata": {},
   "outputs": [
    {
     "name": "stdout",
     "output_type": "stream",
     "text": [
      "[2, 3, 5, 7, 11, 13]\n"
     ]
    }
   ],
   "source": [
    "import json\n",
    "\n",
    "filename = \"numbers.json\"\n",
    "with open(filename) as f:\n",
    "    numbers_load = json.load(f)\n",
    "\n",
    "print(numbers_load)"
   ]
  },
  {
   "cell_type": "markdown",
   "metadata": {},
   "source": [
    "### Saving and Reading User- Generated data\n"
   ]
  },
  {
   "cell_type": "code",
   "execution_count": 2,
   "metadata": {},
   "outputs": [
    {
     "name": "stdout",
     "output_type": "stream",
     "text": [
      "we will remember you when you comeback, abhiram\\\n"
     ]
    }
   ],
   "source": [
    "#remember_me.py\n",
    "import json\n",
    "\n",
    "username = input(\"what is your name? \")\n",
    "\n",
    "filename = \"username.json\"\n",
    "with open(filename, \"w\") as f:\n",
    "    json.dump(username, f)\n",
    "    print(f\"we will remember you when you comeback, {username}\")\n",
    "\n"
   ]
  },
  {
   "cell_type": "code",
   "execution_count": 3,
   "metadata": {},
   "outputs": [
    {
     "name": "stdout",
     "output_type": "stream",
     "text": [
      "Welcome back, abhiram\\\n"
     ]
    }
   ],
   "source": [
    "#great_me.py\n",
    "import json\n",
    "\n",
    "filename = \"username.json\"\n",
    "with open(filename) as f:\n",
    "    user = json.load(f)\n",
    "    print(f\"Welcome back, {user}\")"
   ]
  },
  {
   "cell_type": "code",
   "execution_count": 7,
   "metadata": {},
   "outputs": [
    {
     "name": "stdout",
     "output_type": "stream",
     "text": [
      "welcome back abhiram\\\n"
     ]
    }
   ],
   "source": [
    "#putting it all together\n",
    "import json\n",
    "\n",
    "#load the username, if it has been stored previously\n",
    "#otherwise, prompt for the username and store it\n",
    "\n",
    "filename = \"username.json\"\n",
    "\n",
    "try:\n",
    "    with open(filename) as f:\n",
    "        username = json.load(f)\n",
    "except FileNotFoundError:\n",
    "    username = input(\"what is your name? \")\n",
    "    with open(filename,\"w\") as f:\n",
    "        json.dump(username, f)\n",
    "        print(f\"you will be remembered, {username}\")\n",
    "else:\n",
    "    print(f\"welcome back {username}\")\n"
   ]
  },
  {
   "cell_type": "markdown",
   "metadata": {},
   "source": [
    "### Refactoring\n",
    "Often, you’ll come to a point where your code will work, but you’ll recognize \\\n",
    "that you could improve the code by breaking it up into a series of functions \\\n",
    "that have specific jobs. This process is called refactoring. \\\n",
    "Refactoring makes your code cleaner, easier to understand, and easier to extend. "
   ]
  },
  {
   "cell_type": "code",
   "execution_count": null,
   "metadata": {},
   "outputs": [],
   "source": [
    "import json\n",
    "def get_stored_username():\n",
    "    \"\"\"Get stored username if available.\"\"\"\n",
    "    --snip-\n",
    "def get_new_username():\n",
    "    \"\"\"Prompt for a new username.\"\"\"\n",
    "    username = input(\"What is your name? \")\n",
    "    filename = 'username.json'\n",
    "    with open(filename, 'w') as f:\n",
    "        json.dump(username, f)\n",
    "    return username\n",
    "def greet_user():\n",
    "    \"\"\"Greet the user by name.\"\"\"\n",
    "    username = get_stored_username()\n",
    "    if username:\n",
    "        print(f\"Welcome back, {username}!\")\n",
    "    else:\n",
    "        username = get_new_username()\n",
    "print(f\"We'll remember you when you come back, {username}!\")\n",
    "greet_user()"
   ]
  }
 ],
 "metadata": {
  "kernelspec": {
   "display_name": "base",
   "language": "python",
   "name": "python3"
  },
  "language_info": {
   "codemirror_mode": {
    "name": "ipython",
    "version": 3
   },
   "file_extension": ".py",
   "mimetype": "text/x-python",
   "name": "python",
   "nbconvert_exporter": "python",
   "pygments_lexer": "ipython3",
   "version": "3.11.3"
  }
 },
 "nbformat": 4,
 "nbformat_minor": 2
}
